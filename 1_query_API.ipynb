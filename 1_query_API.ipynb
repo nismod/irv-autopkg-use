{
 "cells": [
  {
   "cell_type": "markdown",
   "id": "485b95c5",
   "metadata": {},
   "source": [
    "# Interacting with the infra-risk-vis autopackage API\n",
    "\n",
    "This notebook will:\n",
    "- Check the remote API is available\n",
    "- Query the API for available boundaries\n",
    "- Query the API for available datasets\n",
    "- Post to the API to trigger an extract for a boundary and set of datasets\n",
    "- Download files from the server to your local machine for further processing"
   ]
  },
  {
   "cell_type": "code",
   "execution_count": null,
   "id": "60f9193d",
   "metadata": {},
   "outputs": [],
   "source": [
    "import os\n",
    "\n",
    "import geopandas as gpd\n",
    "\n",
    "import irv_autopkg_client"
   ]
  },
  {
   "cell_type": "code",
   "execution_count": null,
   "id": "40969557",
   "metadata": {},
   "outputs": [],
   "source": [
    "# declare some user inputs up front\n",
    "\n",
    "# a country to request data for (ISO A3 code)\n",
    "country_iso = \"bgd\"\n",
    "\n",
    "# a location to store requested data\n",
    "data_dir = \"data\""
   ]
  },
  {
   "cell_type": "code",
   "execution_count": null,
   "id": "949ca1e5",
   "metadata": {},
   "outputs": [],
   "source": [
    "# create a client object to establish a session\n",
    "client = irv_autopkg_client.Client()\n",
    "\n",
    "# is the API responding?\n",
    "client.server_readiness()"
   ]
  },
  {
   "cell_type": "code",
   "execution_count": null,
   "id": "147c1025",
   "metadata": {},
   "outputs": [],
   "source": [
    "# which boundaries can we create extracts for?\n",
    "client.boundary_list()"
   ]
  },
  {
   "cell_type": "code",
   "execution_count": null,
   "id": "6282a1b2",
   "metadata": {},
   "outputs": [],
   "source": [
    "# which data processors can we deploy against some boundary?\n",
    "client.dataset_list()"
   ]
  },
  {
   "cell_type": "code",
   "execution_count": null,
   "id": "21808392",
   "metadata": {},
   "outputs": [],
   "source": [
    "# get information on a specific dataset\n",
    "client.dataset(\"wri_aqueduct.version_2\")"
   ]
  },
  {
   "cell_type": "code",
   "execution_count": null,
   "id": "4b69cbac",
   "metadata": {},
   "outputs": [],
   "source": [
    "# submitting a job using one of those data processors\n",
    "# as an example, all of the WRI Aqueduct flood maps for Egypt\n",
    "job_id = client.job_submit(\n",
    "    country_iso,\n",
    "    [\n",
    "        \"gri_osm.roads_and_rail_version_1\",\n",
    "        \"wri_aqueduct.version_2\"\n",
    "    ]\n",
    ")"
   ]
  },
  {
   "cell_type": "code",
   "execution_count": null,
   "id": "c5b4c629",
   "metadata": {},
   "outputs": [],
   "source": [
    "# get the status of the job\n",
    "client.job_status(job_id)"
   ]
  },
  {
   "cell_type": "code",
   "execution_count": null,
   "id": "b22c752b",
   "metadata": {},
   "outputs": [],
   "source": [
    "# check if the job is complete\n",
    "client.job_complete(job_id)"
   ]
  },
  {
   "cell_type": "code",
   "execution_count": null,
   "id": "8b77186f",
   "metadata": {},
   "outputs": [],
   "source": [
    "# get the boundary of the territory\n",
    "boundary = client.boundary_geometry(country_iso)\n",
    "\n",
    "# save it for later use\n",
    "os.makedirs(os.path.join(data_dir, country_iso), exist_ok=True)\n",
    "df = gpd.GeoDataFrame({\"name\": [country_iso], \"geometry\": [boundary]})\n",
    "df.to_file(os.path.join(data_dir, country_iso, \"territory.gpkg\"))"
   ]
  },
  {
   "cell_type": "code",
   "execution_count": null,
   "id": "5970d3b0",
   "metadata": {},
   "outputs": [],
   "source": [
    "# download some extracted data\n",
    "client.extract_download(\n",
    "    country_iso,\n",
    "    data_dir,\n",
    "    # there may be other datasets available, but only download the following\n",
    "    dataset_filter=[\n",
    "        \"gri_osm.roads_and_rail_version_1\",\n",
    "        \"wri_aqueduct.version_2\"\n",
    "    ],\n",
    "    overwrite=True\n",
    ")"
   ]
  }
 ],
 "metadata": {
  "kernelspec": {
   "display_name": "Python 3 (ipykernel)",
   "language": "python",
   "name": "python3"
  },
  "language_info": {
   "codemirror_mode": {
    "name": "ipython",
    "version": 3
   },
   "file_extension": ".py",
   "mimetype": "text/x-python",
   "name": "python",
   "nbconvert_exporter": "python",
   "pygments_lexer": "ipython3",
   "version": "3.11.2"
  }
 },
 "nbformat": 4,
 "nbformat_minor": 5
}
