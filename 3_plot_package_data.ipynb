{
 "cells": [
  {
   "cell_type": "code",
   "execution_count": null,
   "id": "2311b7f2",
   "metadata": {},
   "outputs": [],
   "source": [
    "import os\n",
    "from glob import glob\n",
    "\n",
    "import geopandas as gpd\n",
    "import rioxarray\n",
    "\n",
    "from utils import aqueduct_rp\n",
    "from plot import plot_flood_map, plot_aqueduct_flood_depth_distributions"
   ]
  },
  {
   "cell_type": "code",
   "execution_count": null,
   "id": "d4065a40",
   "metadata": {},
   "outputs": [],
   "source": [
    "data_dir = \"data\"\n",
    "country_iso = \"bgd\""
   ]
  },
  {
   "cell_type": "code",
   "execution_count": null,
   "id": "b66c87c0",
   "metadata": {},
   "outputs": [],
   "source": [
    "# quickly inspect network data\n",
    "\n",
    "network = gpd.read_file(f\"data/{country_iso}/gri_osm/{country_iso}.gpkg\")\n",
    "network"
   ]
  },
  {
   "cell_type": "code",
   "execution_count": null,
   "id": "3217157a",
   "metadata": {},
   "outputs": [],
   "source": [
    "# quickly inspect some flooding data with rasterio\n",
    "\n",
    "return_period = 100\n",
    "epoch = 2050\n",
    "scenario = \"rcp4p5\"\n",
    "flood_map = rioxarray.open_rasterio(\n",
    "    f\"data/{country_iso}/wri_aqueduct/inuncoast_{scenario}_wtsub_{epoch}_rp{return_period:04d}_0.tif\"\n",
    ")\n",
    "flood_map"
   ]
  },
  {
   "cell_type": "code",
   "execution_count": null,
   "id": "378b2a55",
   "metadata": {},
   "outputs": [],
   "source": [
    "# plot network and flood data together\n",
    "\n",
    "border = gpd.read_file(os.path.join(data_dir, country_iso, \"territory.gpkg\"))\n",
    "border.geometry = border.geometry.boundary\n",
    "\n",
    "title = f\"\"\"\n",
    "{country_iso.upper()}\n",
    "Transport network\n",
    "1 in {return_period} year flood map, {scenario.upper()}, {epoch}, Aqueduct\n",
    "\"\"\"\n",
    "plot_flood_map(\n",
    "    title,\n",
    "    flood_map,\n",
    "    network=network,\n",
    "    border=border\n",
    ")"
   ]
  },
  {
   "cell_type": "code",
   "execution_count": null,
   "id": "742e000f",
   "metadata": {},
   "outputs": [],
   "source": [
    "epoch = 2050\n",
    "scenario = \"rcp4p5\"\n",
    "raster_paths = glob(f\"data/{country_iso}/wri_aqueduct/*{scenario}*{epoch}*.tif\")\n",
    "raster_paths = sorted(raster_paths, key=aqueduct_rp)\n",
    "\n",
    "# plot flood depth distributions of some flood maps for The Gambia\n",
    "plot_aqueduct_flood_depth_distributions(\n",
    "    raster_paths[-6:],\n",
    "    f\"{country_iso.upper()}: Aqueduct flood depth distributions, {scenario.upper()}, {epoch}\"\n",
    ")"
   ]
  }
 ],
 "metadata": {
  "kernelspec": {
   "display_name": "Python 3 (ipykernel)",
   "language": "python",
   "name": "python3"
  },
  "language_info": {
   "codemirror_mode": {
    "name": "ipython",
    "version": 3
   },
   "file_extension": ".py",
   "mimetype": "text/x-python",
   "name": "python",
   "nbconvert_exporter": "python",
   "pygments_lexer": "ipython3"
  }
 },
 "nbformat": 4,
 "nbformat_minor": 5
}
