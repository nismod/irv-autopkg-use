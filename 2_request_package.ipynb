{
 "cells": [
  {
   "cell_type": "code",
   "execution_count": null,
   "id": "7b8a547d",
   "metadata": {},
   "outputs": [],
   "source": [
    "import json\n",
    "import os\n",
    "\n",
    "from shapely.geometry import shape\n",
    "import geopandas as gpd\n",
    "\n",
    "import irv_autopkg_client\n",
    "from irv_autopkg_client.models import Job\n",
    "from irv_autopkg_client.api.jobs import submit_processing_job_v1_jobs_post as submit_job\n",
    "from irv_autopkg_client.api.jobs import get_status_v1_jobs_job_id_get as get_job_status\n",
    "from irv_autopkg_client.api.packages import get_package_v1_packages_boundary_name_get as get_package_by_name\n",
    "\n",
    "from utils import download_data"
   ]
  },
  {
   "cell_type": "code",
   "execution_count": null,
   "id": "c9bc6da7",
   "metadata": {},
   "outputs": [],
   "source": [
    "data_dir = \"data\"\n",
    "country_iso = \"pak\""
   ]
  },
  {
   "cell_type": "code",
   "execution_count": null,
   "id": "fe0355d9",
   "metadata": {},
   "outputs": [],
   "source": [
    "# create and persist a client to make requests with\n",
    "\n",
    "base_url = \"https://global.infrastructureresilience.org/extract\"\n",
    "client = irv_autopkg_client.Client(base_url)"
   ]
  },
  {
   "cell_type": "code",
   "execution_count": null,
   "id": "9fcaa5d8",
   "metadata": {},
   "outputs": [],
   "source": [
    "# submitting a job using one of those data processors\n",
    "\n",
    "job = Job(\n",
    "    country_iso,\n",
    "    [\n",
    "        \"wri_aqueduct.version_2\",\n",
    "        \"jrc_ghsl_population.r2022_epoch2020_1km\",\n",
    "        \"gri_osm.roads_and_rail_version_1\"\n",
    "    ]\n",
    ")\n",
    "# json_body is a poorly named kwarg, its type is Job, not dict\n",
    "response = submit_job.sync_detailed(client=client, json_body=job)\n",
    "submitted_job_id = json.loads(response.content)[\"job_id\"]"
   ]
  },
  {
   "cell_type": "code",
   "execution_count": null,
   "id": "4a856915",
   "metadata": {},
   "outputs": [],
   "source": [
    "# checking the status of that job\n",
    "\n",
    "# TODO: recreate client API, needs updating for this to work?\n",
    "response = get_job_status.sync(submitted_job_id, client=client)\n",
    "response.job_status"
   ]
  },
  {
   "cell_type": "code",
   "execution_count": null,
   "id": "e3157f45",
   "metadata": {},
   "outputs": [],
   "source": [
    "# request country data by name\n",
    "\n",
    "country_data = get_package_by_name.sync(country_iso, client=client)\n",
    "[a for a in dir(country_data) if not a.startswith(\"_\")]"
   ]
  },
  {
   "cell_type": "code",
   "execution_count": null,
   "id": "545da3bb",
   "metadata": {},
   "outputs": [],
   "source": [
    "# read the country boundary geometry and save to disk\n",
    "\n",
    "boundary = shape(country_data.boundary.geometry.additional_properties)\n",
    "df = gpd.GeoDataFrame({\"name\": [country_iso], \"geometry\": [boundary]})\n",
    "\n",
    "# save it for later use\n",
    "os.makedirs(os.path.join(data_dir, country_iso), exist_ok=True)\n",
    "df.to_file(os.path.join(data_dir, country_iso, \"territory.gpkg\"))"
   ]
  },
  {
   "cell_type": "code",
   "execution_count": null,
   "id": "28975fab",
   "metadata": {},
   "outputs": [],
   "source": [
    "# parse the datapackage contents for filenames\n",
    "\n",
    "resources = country_data.datapackage.additional_properties[\"resources\"]\n",
    "datasets = {\n",
    "    d[\"name\"]: d[\"path\"] for d in resources\n",
    "}\n",
    "for name, paths in datasets.items():\n",
    "    print(f\"dataset: {name}\")\n",
    "    for path in sorted(paths):\n",
    "        print(f\"  file: {path.split('/')[-1]}\")"
   ]
  },
  {
   "cell_type": "code",
   "execution_count": null,
   "id": "1abd6524",
   "metadata": {},
   "outputs": [],
   "source": [
    "# download the extracted flood maps\n",
    "dataset = \"wri_aqueduct\"\n",
    "download_data(\n",
    "    datasets[dataset],\n",
    "    os.path.join(data_dir, country_iso, dataset),\n",
    "    r\"rcp4p5_wtsub_2050\",\n",
    ")"
   ]
  },
  {
   "cell_type": "code",
   "execution_count": null,
   "id": "1039c236",
   "metadata": {},
   "outputs": [],
   "source": [
    "# download the network representations\n",
    "dataset = \"gri_osm\"\n",
    "download_data(\n",
    "    datasets[dataset],\n",
    "    os.path.join(data_dir, country_iso, dataset)\n",
    ")"
   ]
  }
 ],
 "metadata": {
  "kernelspec": {
   "display_name": "Python 3 (ipykernel)",
   "language": "python",
   "name": "python3"
  },
  "language_info": {
   "codemirror_mode": {
    "name": "ipython",
    "version": 3
   },
   "file_extension": ".py",
   "mimetype": "text/x-python",
   "name": "python",
   "nbconvert_exporter": "python",
   "pygments_lexer": "ipython3"
  }
 },
 "nbformat": 4,
 "nbformat_minor": 5
}
