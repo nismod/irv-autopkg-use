{
 "cells": [
  {
   "cell_type": "code",
   "execution_count": 1,
   "id": "0ecbe85f-fcb3-45ca-8c7e-67cf726bacb8",
   "metadata": {},
   "outputs": [],
   "source": [
    "from dataproc import Boundary\n",
    "from dataproc.storage.localfs import LocalFSStorageBackend\n",
    "from dataproc.helpers import processor_name, get_processor_by_name, get_processor_meta_by_name, list_processors\n"
   ]
  },
  {
   "cell_type": "code",
   "execution_count": 2,
   "id": "e7d9d05a-9bb2-4d81-b2b7-14ad1825d2a5",
   "metadata": {},
   "outputs": [],
   "source": [
    "iso3 = 'bgd'\n"
   ]
  },
  {
   "cell_type": "code",
   "execution_count": 3,
   "id": "a983fa3f",
   "metadata": {},
   "outputs": [],
   "source": [
    "storage_backend = LocalFSStorageBackend('./tmp')\n"
   ]
  },
  {
   "cell_type": "code",
   "execution_count": 4,
   "id": "2c1fd260",
   "metadata": {},
   "outputs": [
    {
     "name": "stderr",
     "output_type": "stream",
     "text": [
      "/home/mert2014/projects/infra-risk-vis/irv-autopkg/dataproc/processors/core/__init__.py:11: UserWarning: failed to load module isimp_drought.version_1 due to cannot import name 'output_filename' from 'dataproc.helpers' (/home/mert2014/projects/infra-risk-vis/irv-autopkg/dataproc/helpers.py)\n",
      "  warnings.warn(f\"failed to load module {module_name} due to {err}\")\n"
     ]
    },
    {
     "data": {
      "text/plain": [
       "defaultdict(list,\n",
       "            {'gri_osm': ['roads_and_rail_version_1'],\n",
       "             'gridfinder': ['version_1'],\n",
       "             'jrc_ghsl_built_c': ['r2022_epoch2018_10m_mszfun'],\n",
       "             'jrc_ghsl_population': ['r2022_epoch2020_1km'],\n",
       "             'natural_earth_raster': ['version_1'],\n",
       "             'natural_earth_vector': ['version_1'],\n",
       "             'storm': ['global_mosaics_version_1'],\n",
       "             'wri_aqueduct': ['version_2'],\n",
       "             'wri_powerplants': ['version_130']})"
      ]
     },
     "execution_count": 4,
     "metadata": {},
     "output_type": "execute_result"
    }
   ],
   "source": [
    "list_processors()\n"
   ]
  },
  {
   "cell_type": "code",
   "execution_count": 5,
   "id": "e6e3e7e5",
   "metadata": {},
   "outputs": [
    {
     "name": "stdout",
     "output_type": "stream",
     "text": [
      "boundary_name='bgd': proc_name='gri_osm.roads_and_rail_version_1' dataset='gri_osm' version='roads_and_rail_version_1'\n"
     ]
    }
   ],
   "source": [
    "boundary_name = iso3\n",
    "baseurl = \"https://irv-autopkg.s3.eu-west-2.amazonaws.com\"\n",
    "\n",
    "## TODO figure out base datapackage (basic is almost empty dict)\n",
    "base_datapackage = {}\n",
    "\n",
    "output_processors = []\n",
    "for dataset in storage_backend.package_datasets(boundary_name):\n",
    "    try:\n",
    "        for version in storage_backend.dataset_versions(boundary_name, dataset):\n",
    "            proc_name = processor_name(dataset, version)\n",
    "            print(f\"{boundary_name=}: {proc_name=} {dataset=} {version=}\")\n",
    "            meta_cls = get_processor_meta_by_name(proc_name)\n",
    "            assert meta_cls is not None, 'Invalid Metadata class'\n",
    "            metadata = meta_cls()\n",
    "            ds_version_uri = f\"{baseurl}/{boundary_name}/datasets/{dataset}/{version}/\"\n",
    "            processor_cls = get_processor_by_name(proc_name)\n",
    "            assert processor_cls is not None, 'Invalid Processor class'\n",
    "            processor = processor_cls(\n",
    "                metadata=metadata,\n",
    "                storage_backend=storage_backend,\n",
    "                boundary=Boundary(iso3, {}, {}),\n",
    "                task_executor=None,\n",
    "                processing_root_folder='root'\n",
    "            )\n",
    "\n",
    "    except Exception as e:\n",
    "        print(f\"Error {boundary_name=}: {proc_name=} {dataset=} {version=}\")\n",
    "        print(e)\n",
    "    ## TODO first run over bgd locally\n",
    "    ## TODO then on SoGE cluster, run over all countries and datasets\n",
    "    break\n"
   ]
  },
  {
   "cell_type": "code",
   "execution_count": 6,
   "id": "aadaedd4",
   "metadata": {},
   "outputs": [
    {
     "name": "stderr",
     "output_type": "stream",
     "text": [
      "root/tmp/bgd/gri_osm-roads_and_rail_version_1-bgd.gpkg: No such file or directory\n",
      "40575486787F0000:error:80000002:system library:file_ctrl:No such file or directory:crypto/bio/bss_file.c:297:calling fopen(root/tmp/bgd/gri_osm-roads_and_rail_version_1-bgd.gpkg, r)\n",
      "40575486787F0000:error:10080002:BIO routines:file_ctrl:system lib:crypto/bio/bss_file.c:300:\n"
     ]
    },
    {
     "ename": "CalledProcessError",
     "evalue": "Command '['openssl', 'sha1', 'root/tmp/bgd/gri_osm-roads_and_rail_version_1-bgd.gpkg']' returned non-zero exit status 1.",
     "output_type": "error",
     "traceback": [
      "\u001b[0;31m---------------------------------------------------------------------------\u001b[0m",
      "\u001b[0;31mCalledProcessError\u001b[0m                        Traceback (most recent call last)",
      "\u001b[1;32m/home/mert2014/projects/infra-risk-vis/irv-autopkg-use/reconcile_datapkgs.ipynb Cell 6\u001b[0m line \u001b[0;36m1\n\u001b[0;32m----> <a href='vscode-notebook-cell:/home/mert2014/projects/infra-risk-vis/irv-autopkg-use/reconcile_datapkgs.ipynb#W5sZmlsZQ%3D%3D?line=0'>1</a>\u001b[0m processor\u001b[39m.\u001b[39;49mgenerate_datapackage_resource()\n",
      "File \u001b[0;32m~/projects/infra-risk-vis/irv-autopkg/dataproc/processors/core/gri_osm/roads_and_rail_version_1.py:138\u001b[0m, in \u001b[0;36mProcessor.generate_datapackage_resource\u001b[0;34m(self)\u001b[0m\n\u001b[1;32m    134\u001b[0m output_fpath \u001b[39m=\u001b[39m os\u001b[39m.\u001b[39mpath\u001b[39m.\u001b[39mjoin(\n\u001b[1;32m    135\u001b[0m     \u001b[39mself\u001b[39m\u001b[39m.\u001b[39mtmp_processing_folder, \u001b[39mself\u001b[39m\u001b[39m.\u001b[39moutput_filenames()[\u001b[39m0\u001b[39m]\n\u001b[1;32m    136\u001b[0m )\n\u001b[1;32m    137\u001b[0m \u001b[39m## TODO write helpers for files produced (local path) and resulting URIs\u001b[39;00m\n\u001b[0;32m--> 138\u001b[0m hashes, sizes \u001b[39m=\u001b[39m \u001b[39mself\u001b[39;49m\u001b[39m.\u001b[39;49mcalculate_files_metadata([output_fpath])\n\u001b[1;32m    139\u001b[0m result_uri \u001b[39m=\u001b[39m output_fpath\u001b[39m.\u001b[39mreplace(\u001b[39mself\u001b[39m\u001b[39m.\u001b[39mtmp_processing_folder, PACKAGES_HOST_URL)\n\u001b[1;32m    140\u001b[0m uris \u001b[39m=\u001b[39m [result_uri]\n",
      "File \u001b[0;32m~/projects/infra-risk-vis/irv-autopkg/dataproc/processors/internal/base.py:155\u001b[0m, in \u001b[0;36mBaseProcessorABC.calculate_files_metadata\u001b[0;34m(fpaths)\u001b[0m\n\u001b[1;32m    152\u001b[0m \u001b[39m@staticmethod\u001b[39m\n\u001b[1;32m    153\u001b[0m \u001b[39mdef\u001b[39;00m \u001b[39mcalculate_files_metadata\u001b[39m(fpaths: List[\u001b[39mstr\u001b[39m]) \u001b[39m-\u001b[39m\u001b[39m>\u001b[39m Tuple[List[\u001b[39mstr\u001b[39m], List[\u001b[39mint\u001b[39m]]:\n\u001b[1;32m    154\u001b[0m     \u001b[39mreturn\u001b[39;00m (\n\u001b[0;32m--> 155\u001b[0m         [data_file_hash(fpath) \u001b[39mfor\u001b[39;49;00m fpath \u001b[39min\u001b[39;49;00m fpaths],\n\u001b[1;32m    156\u001b[0m         [os\u001b[39m.\u001b[39mpath\u001b[39m.\u001b[39mgetsize(fpath) \u001b[39mfor\u001b[39;00m fpath \u001b[39min\u001b[39;00m fpaths],\n\u001b[1;32m    157\u001b[0m     )\n",
      "File \u001b[0;32m~/projects/infra-risk-vis/irv-autopkg/dataproc/processors/internal/base.py:155\u001b[0m, in \u001b[0;36m<listcomp>\u001b[0;34m(.0)\u001b[0m\n\u001b[1;32m    152\u001b[0m \u001b[39m@staticmethod\u001b[39m\n\u001b[1;32m    153\u001b[0m \u001b[39mdef\u001b[39;00m \u001b[39mcalculate_files_metadata\u001b[39m(fpaths: List[\u001b[39mstr\u001b[39m]) \u001b[39m-\u001b[39m\u001b[39m>\u001b[39m Tuple[List[\u001b[39mstr\u001b[39m], List[\u001b[39mint\u001b[39m]]:\n\u001b[1;32m    154\u001b[0m     \u001b[39mreturn\u001b[39;00m (\n\u001b[0;32m--> 155\u001b[0m         [data_file_hash(fpath) \u001b[39mfor\u001b[39;00m fpath \u001b[39min\u001b[39;00m fpaths],\n\u001b[1;32m    156\u001b[0m         [os\u001b[39m.\u001b[39mpath\u001b[39m.\u001b[39mgetsize(fpath) \u001b[39mfor\u001b[39;00m fpath \u001b[39min\u001b[39;00m fpaths],\n\u001b[1;32m    157\u001b[0m     )\n",
      "File \u001b[0;32m~/projects/infra-risk-vis/irv-autopkg/dataproc/helpers.py:196\u001b[0m, in \u001b[0;36mdata_file_hash\u001b[0;34m(fpath)\u001b[0m\n\u001b[1;32m    193\u001b[0m \u001b[39mdef\u001b[39;00m \u001b[39mdata_file_hash\u001b[39m(fpath: \u001b[39mstr\u001b[39m) \u001b[39m-\u001b[39m\u001b[39m>\u001b[39m \u001b[39mstr\u001b[39m:\n\u001b[1;32m    194\u001b[0m \u001b[39m    \u001b[39m\u001b[39m\"\"\"Generate the SHA-1 hash of a single file\"\"\"\u001b[39;00m\n\u001b[1;32m    195\u001b[0m     _hash \u001b[39m=\u001b[39m (\n\u001b[0;32m--> 196\u001b[0m         check_output(\u001b[39mf\u001b[39;49m\u001b[39m\"\u001b[39;49m\u001b[39mopenssl sha1 \u001b[39;49m\u001b[39m{\u001b[39;49;00mfpath\u001b[39m}\u001b[39;49;00m\u001b[39m\"\u001b[39;49m\u001b[39m.\u001b[39;49msplit(\u001b[39m\"\u001b[39;49m\u001b[39m \u001b[39;49m\u001b[39m\"\u001b[39;49m))\n\u001b[1;32m    197\u001b[0m         \u001b[39m.\u001b[39mdecode()\n\u001b[1;32m    198\u001b[0m         \u001b[39m.\u001b[39mreplace(\u001b[39m\"\u001b[39m\u001b[39m\\n\u001b[39;00m\u001b[39m\"\u001b[39m, \u001b[39m\"\u001b[39m\u001b[39m\"\u001b[39m)\n\u001b[1;32m    199\u001b[0m         \u001b[39m.\u001b[39msplit(\u001b[39m\"\u001b[39m\u001b[39m= \u001b[39m\u001b[39m\"\u001b[39m)[\u001b[39m1\u001b[39m]\n\u001b[1;32m    200\u001b[0m     )\n\u001b[1;32m    201\u001b[0m     \u001b[39mreturn\u001b[39;00m _hash\n",
      "File \u001b[0;32m~/micromamba/envs/irv-autopkg/lib/python3.11/subprocess.py:466\u001b[0m, in \u001b[0;36mcheck_output\u001b[0;34m(timeout, *popenargs, **kwargs)\u001b[0m\n\u001b[1;32m    463\u001b[0m         empty \u001b[39m=\u001b[39m \u001b[39mb\u001b[39m\u001b[39m'\u001b[39m\u001b[39m'\u001b[39m\n\u001b[1;32m    464\u001b[0m     kwargs[\u001b[39m'\u001b[39m\u001b[39minput\u001b[39m\u001b[39m'\u001b[39m] \u001b[39m=\u001b[39m empty\n\u001b[0;32m--> 466\u001b[0m \u001b[39mreturn\u001b[39;00m run(\u001b[39m*\u001b[39;49mpopenargs, stdout\u001b[39m=\u001b[39;49mPIPE, timeout\u001b[39m=\u001b[39;49mtimeout, check\u001b[39m=\u001b[39;49m\u001b[39mTrue\u001b[39;49;00m,\n\u001b[1;32m    467\u001b[0m            \u001b[39m*\u001b[39;49m\u001b[39m*\u001b[39;49mkwargs)\u001b[39m.\u001b[39mstdout\n",
      "File \u001b[0;32m~/micromamba/envs/irv-autopkg/lib/python3.11/subprocess.py:571\u001b[0m, in \u001b[0;36mrun\u001b[0;34m(input, capture_output, timeout, check, *popenargs, **kwargs)\u001b[0m\n\u001b[1;32m    569\u001b[0m     retcode \u001b[39m=\u001b[39m process\u001b[39m.\u001b[39mpoll()\n\u001b[1;32m    570\u001b[0m     \u001b[39mif\u001b[39;00m check \u001b[39mand\u001b[39;00m retcode:\n\u001b[0;32m--> 571\u001b[0m         \u001b[39mraise\u001b[39;00m CalledProcessError(retcode, process\u001b[39m.\u001b[39margs,\n\u001b[1;32m    572\u001b[0m                                  output\u001b[39m=\u001b[39mstdout, stderr\u001b[39m=\u001b[39mstderr)\n\u001b[1;32m    573\u001b[0m \u001b[39mreturn\u001b[39;00m CompletedProcess(process\u001b[39m.\u001b[39margs, retcode, stdout, stderr)\n",
      "\u001b[0;31mCalledProcessError\u001b[0m: Command '['openssl', 'sha1', 'root/tmp/bgd/gri_osm-roads_and_rail_version_1-bgd.gpkg']' returned non-zero exit status 1."
     ]
    }
   ],
   "source": [
    "processor.generate_datapackage_resource()\n"
   ]
  }
 ],
 "metadata": {
  "kernelspec": {
   "display_name": "Python 3 (ipykernel)",
   "language": "python",
   "name": "python3"
  },
  "language_info": {
   "codemirror_mode": {
    "name": "ipython",
    "version": 3
   },
   "file_extension": ".py",
   "mimetype": "text/x-python",
   "name": "python",
   "nbconvert_exporter": "python",
   "pygments_lexer": "ipython3",
   "version": "3.11.6"
  }
 },
 "nbformat": 4,
 "nbformat_minor": 5
}
