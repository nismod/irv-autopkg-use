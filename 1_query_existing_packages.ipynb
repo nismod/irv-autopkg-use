{
 "cells": [
  {
   "cell_type": "code",
   "execution_count": null,
   "id": "60f9193d",
   "metadata": {},
   "outputs": [],
   "source": [
    "import irv_autopkg_client\n",
    "from irv_autopkg_client.api.processors import get_processors_v1_processors_get as get_processors\n",
    "from irv_autopkg_client.api.packages import get_packages_v1_packages_get as get_packages"
   ]
  },
  {
   "cell_type": "code",
   "execution_count": null,
   "id": "353cc3a5",
   "metadata": {},
   "outputs": [],
   "source": [
    "# create and persist a client to make requests with\n",
    "\n",
    "base_url = \"https://global.infrastructureresilience.org/extract\"\n",
    "client = irv_autopkg_client.Client(base_url)"
   ]
  },
  {
   "cell_type": "code",
   "execution_count": null,
   "id": "b551a64a",
   "metadata": {},
   "outputs": [],
   "source": [
    "# which countries have already had some data generated?\n",
    "\n",
    "response = get_packages.sync(client=client)\n",
    "for pkg in response:\n",
    "    print(pkg.boundary_name, pkg.uri)"
   ]
  },
  {
   "cell_type": "code",
   "execution_count": null,
   "id": "3fe7ad13",
   "metadata": {},
   "outputs": [],
   "source": [
    "# which data processors can we deploy against some country boundary?\n",
    "\n",
    "response = get_processors.sync(client=client)\n",
    "for p in response:\n",
    "    for v in p.versions:\n",
    "        print(v.processor.name)\n",
    "        print(f\"  {v.processor.description}\\n\")"
   ]
  }
 ],
 "metadata": {
  "kernelspec": {
   "display_name": "Python 3 (ipykernel)",
   "language": "python",
   "name": "python3"
  },
  "language_info": {
   "codemirror_mode": {
    "name": "ipython",
    "version": 3
   },
   "file_extension": ".py",
   "mimetype": "text/x-python",
   "name": "python",
   "nbconvert_exporter": "python",
   "pygments_lexer": "ipython3"
  }
 },
 "nbformat": 4,
 "nbformat_minor": 5
}
