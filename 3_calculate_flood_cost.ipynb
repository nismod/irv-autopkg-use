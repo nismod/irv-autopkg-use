{
 "cells": [
  {
   "cell_type": "markdown",
   "id": "6a029bd1",
   "metadata": {},
   "source": [
    "# Calculate damages\n",
    "\n",
    "Finally, we use the extracted flood and network data to perform an expected annual damages calculation"
   ]
  },
  {
   "cell_type": "code",
   "execution_count": null,
   "id": "e704cd54",
   "metadata": {},
   "outputs": [],
   "source": [
    "from glob import glob\n",
    "import os\n",
    "\n",
    "import geopandas as gpd\n",
    "import pandas as pd\n",
    "from pyproj import Geod\n",
    "import matplotlib.pyplot as plt\n",
    "import matplotlib\n",
    "import numpy as np\n",
    "import rasterio\n",
    "from scipy.integrate import simpson, cumulative_trapezoid\n",
    "\n",
    "from utils import aqueduct_rp\n",
    "from rasterise import (\n",
    "    check_raster_grid_consistent,\n",
    "    split_linestrings,\n",
    "    cell_indices_assigner,\n",
    "    raster_lookup,\n",
    ")"
   ]
  },
  {
   "cell_type": "code",
   "execution_count": null,
   "id": "11c54572",
   "metadata": {},
   "outputs": [],
   "source": [
    "data_dir = \"data\"\n",
    "country_iso = \"bgd\""
   ]
  },
  {
   "cell_type": "code",
   "execution_count": null,
   "id": "feb2c513",
   "metadata": {},
   "outputs": [],
   "source": [
    "# flood hazard data to use, pulled from the autopkg API\n",
    "epoch = 2050\n",
    "scenario = \"rcp4p5\"\n",
    "raster_paths = glob(f\"data/{country_iso}/wri_aqueduct*/*{scenario}_wtsub_{epoch}*.tif\")\n",
    "raster_paths = sorted(raster_paths, key=aqueduct_rp, reverse=True)\n",
    "\n",
    "(network_file,) = glob(f\"data/{country_iso}/gri_osm*/*.gpkg\")\n",
    "network = gpd.read_file(network_file)"
   ]
  },
  {
   "cell_type": "code",
   "execution_count": null,
   "id": "2890d4a8",
   "metadata": {},
   "outputs": [],
   "source": [
    "# filter network to linestrings only (edges)\n",
    "lines = network[network.geometry.type == \"LineString\"]\n",
    "\n",
    "# filter to roads\n",
    "desired_layers = {\"motorway\", \"primary\", \"secondary\", \"tertiary\", \"trunk\"}\n",
    "lines = lines[lines.asset_type.isin(desired_layers)]\n",
    "\n",
    "# error if grids not consistent\n",
    "check_raster_grid_consistent(raster_paths)\n",
    "\n",
    "# split edges on raster grid\n",
    "raster_path, *other_raster_paths = raster_paths\n",
    "raster = rasterio.open(raster_path)\n",
    "splits = split_linestrings(lines, raster)\n",
    "\n",
    "# calculate split edge lengths\n",
    "geod = Geod(ellps=\"WGS84\")\n",
    "meters_per_km = 1_000\n",
    "splits[\"length_km\"] = splits.geometry.apply(geod.geometry_length) / meters_per_km\n",
    "\n",
    "# which cell is each split edge in?\n",
    "assigner = cell_indices_assigner(raster)\n",
    "raster_indices = splits.geometry.apply(assigner)\n",
    "\n",
    "# join raster indices to geometries with shared index\n",
    "splits_with_raster_indices = splits.join(raster_indices)"
   ]
  },
  {
   "cell_type": "code",
   "execution_count": null,
   "id": "223eb3c9",
   "metadata": {},
   "outputs": [],
   "source": [
    "# map raster indices as visual check\n",
    "f, (ax_i, ax_j) = plt.subplots(ncols=2)\n",
    "\n",
    "ax_i = splits_with_raster_indices.plot(ax=ax_i, column=\"raster_i\", cmap=\"Reds\")\n",
    "ax_i.set_title(\"raster_i\")\n",
    "\n",
    "splits_with_raster_indices.plot(ax=ax_j, column=\"raster_j\", cmap=\"Blues\")\n",
    "ax_j.set_title(\"raster_j\")\n",
    "f.tight_layout()"
   ]
  },
  {
   "cell_type": "code",
   "execution_count": null,
   "id": "cc9945d5",
   "metadata": {},
   "outputs": [],
   "source": [
    "for path in raster_paths:\n",
    "    splits_with_raster_indices[f\"rp-{aqueduct_rp(path)}\"] = raster_lookup(\n",
    "        splits_with_raster_indices, path\n",
    "    )\n",
    "\n",
    "hazard_intensities = splits_with_raster_indices\n",
    "hazard_intensities.describe()"
   ]
  },
  {
   "cell_type": "code",
   "execution_count": null,
   "id": "5bbeef58",
   "metadata": {},
   "outputs": [],
   "source": [
    "def logistic_min(\n",
    "    x: float | np.ndarray, L: float, m: float, k: float, x_0: float\n",
    ") -> float | np.ndarray:\n",
    "    \"\"\"\n",
    "    Logistic function with a minimum value, m.\n",
    "\n",
    "    Args:\n",
    "        x: Input values\n",
    "        L: Maximum output value\n",
    "        m: Minimum output value\n",
    "        k: Steepness parameter\n",
    "        x_0: Location of sigmoid centre in x\n",
    "\n",
    "    Returns:\n",
    "        Output values\n",
    "    \"\"\"\n",
    "\n",
    "    return m + (L - m) / (1 + np.exp(-k * (x - x_0)))\n",
    "\n",
    "\n",
    "# define a damage function\n",
    "damage_curve = lambda x: logistic_min(x, 1, 0, 2, 2)\n",
    "\n",
    "# have a look at it\n",
    "f, ax = plt.subplots()\n",
    "x = np.linspace(0, 5, 20)\n",
    "ax.plot(x, damage_curve(x), \".\", ls=\"-\")\n",
    "ax.set_xlabel(\"Flood depth [meters]\")\n",
    "ax.set_ylabel(\"Damage fraction\")\n",
    "ax.set_title(\"Damage function\")\n",
    "ax.grid()"
   ]
  },
  {
   "cell_type": "code",
   "execution_count": null,
   "id": "72393e01",
   "metadata": {},
   "outputs": [],
   "source": [
    "# calculate how badly each split edge is damaged by the flooding\n",
    "damage_fractions = hazard_intensities.copy()\n",
    "hazard_cols = [col for col in hazard_intensities.columns if col.startswith(\"rp-\")]\n",
    "damage_fractions[hazard_cols] = damage_fractions[hazard_cols].applymap(damage_curve)"
   ]
  },
  {
   "cell_type": "code",
   "execution_count": null,
   "id": "955bb37e",
   "metadata": {},
   "outputs": [],
   "source": [
    "# calculate the cost of damage\n",
    "reconstruction_cost_currency_per_km = 1e5\n",
    "\n",
    "damage_cost = damage_fractions.copy()\n",
    "for col in hazard_cols:\n",
    "    damage_cost[col] = (\n",
    "        damage_cost[col] * damage_cost.length_km * reconstruction_cost_currency_per_km\n",
    "    )\n",
    "\n",
    "grouped_damage_cost = damage_cost[hazard_cols].groupby(damage_cost.original_index).sum()\n",
    "probability_per_year = 1 / np.array(\n",
    "    [int(col.replace(\"rp-\", \"\")) for col in hazard_cols]\n",
    ")\n",
    "\n",
    "damage_probability_curve = grouped_damage_cost.copy()\n",
    "damage_probability_curve.columns = probability_per_year"
   ]
  },
  {
   "cell_type": "code",
   "execution_count": null,
   "id": "ceed8125",
   "metadata": {},
   "outputs": [],
   "source": [
    "# plot the damage-probability curve\n",
    "f, ax = plt.subplots()\n",
    "damage_probability = damage_probability_curve.sum()\n",
    "ax.plot(damage_probability.index, damage_probability.values, \".\", ls=\"-\")\n",
    "ax.grid()\n",
    "ax.set_xlabel(\"Probability per given year\")\n",
    "ax.set_ylabel(\"Damage cost [currency]\")\n",
    "ax.set_title(f\"Damage-probability curve\\n{scenario.upper()} {epoch}\")"
   ]
  },
  {
   "cell_type": "code",
   "execution_count": null,
   "id": "9e578ded",
   "metadata": {},
   "outputs": [],
   "source": [
    "# check how the damage cost cumulatively grows as a function of probability\n",
    "y = cumulative_trapezoid(grouped_damage_cost.sum(), probability_per_year)\n",
    "f, ax = plt.subplots()\n",
    "ax.plot(probability_per_year[1:], 100 * (y / y[-1]), \".\", ls=\"-\")\n",
    "ax.set_xlabel(\"Probability per given year\")\n",
    "ax.set_ylabel(\"Cumulative expected damages [% total]\")\n",
    "ax.set_title(\"Cumulative Expected Damages\")\n",
    "# ax.set_xscale(\"log\")\n",
    "ax.grid()\n",
    "\n",
    "# here, the tail risks aren't adding much to the expected annual damage figure"
   ]
  },
  {
   "cell_type": "code",
   "execution_count": null,
   "id": "a19349f5",
   "metadata": {},
   "outputs": [],
   "source": [
    "# calculate the expected annual damages for every edge\n",
    "# that is, integrate the damage-probability curve, for every row\n",
    "EAD = lines[[\"geometry\"]].copy()\n",
    "EAD[\"ead\"] = simpson(grouped_damage_cost, x=probability_per_year, axis=1)\n",
    "\n",
    "# map the expected annual damages\n",
    "f, ax = plt.subplots(figsize=(10, 10))\n",
    "\n",
    "border = gpd.read_file(os.path.join(data_dir, country_iso, \"territory.gpkg\"))\n",
    "border.plot(ax=ax, alpha=0.1, color=\"black\")\n",
    "\n",
    "EAD.plot(\n",
    "    ax=ax,\n",
    "    column=\"ead\",\n",
    "    legend=True,\n",
    "    cmap=\"RdPu\",\n",
    "    norm=matplotlib.colors.LogNorm(vmin=1e0, vmax=EAD.ead.max()),\n",
    ")\n",
    "ax.grid()\n",
    "ax.set_title(f\"Expected Damages [currency per annum]\\nTotal: {EAD.ead.sum():.2E}\")"
   ]
  }
 ],
 "metadata": {
  "kernelspec": {
   "display_name": "Python 3 (ipykernel)",
   "language": "python",
   "name": "python3"
  },
  "language_info": {
   "codemirror_mode": {
    "name": "ipython",
    "version": 3
   },
   "file_extension": ".py",
   "mimetype": "text/x-python",
   "name": "python",
   "nbconvert_exporter": "python",
   "pygments_lexer": "ipython3",
   "version": "3.11.2"
  }
 },
 "nbformat": 4,
 "nbformat_minor": 5
}
